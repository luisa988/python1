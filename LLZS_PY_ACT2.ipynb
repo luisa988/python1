{
  "cells": [
    {
      "cell_type": "markdown",
      "metadata": {
        "id": "view-in-github",
        "colab_type": "text"
      },
      "source": [
        "<a href=\"https://colab.research.google.com/github/luisa988/python1/blob/main/LLZS_PY_ACT2.ipynb\" target=\"_parent\"><img src=\"https://colab.research.google.com/assets/colab-badge.svg\" alt=\"Open In Colab\"/></a>"
      ]
    },
    {
      "cell_type": "markdown",
      "metadata": {
        "id": "mjtPu3jj5VK-"
      },
      "source": [
        "Nombre: Luisa Zerega.\n",
        "\n",
        "Materia: Python.\n",
        "\n",
        "Actividad 1 descripcion: Programa en Python que lea 2 números enteros, usar una condición y analizar los dos números y desplegar cual de los números es el mayor 1\n",
        "\n",
        "Matricula: 356491"
      ]
    },
    {
      "cell_type": "code",
      "execution_count": 21,
      "metadata": {
        "colab": {
          "base_uri": "https://localhost:8080/"
        },
        "id": "bh8ShAC_5BDf",
        "outputId": "2023ec18-c7fd-43e6-a4cd-e60bda6d108c"
      },
      "outputs": [
        {
          "output_type": "stream",
          "name": "stdout",
          "text": [
            "Ingresa el primer número: 3\n",
            "Ingresa el segundo número: 4\n",
            "El segundo número es mayor: 4.0\n"
          ]
        }
      ],
      "source": [
        "numero1 = float(input(\"Ingresa el primer número: \"))\n",
        "numero2 = float(input(\"Ingresa el segundo número: \"))\n",
        "\n",
        "if numero1 > numero2:\n",
        "    print(\"El primer número es mayor:\", numero1)\n",
        "else:\n",
        "    print(\"El segundo número es mayor:\", numero2)"
      ]
    },
    {
      "cell_type": "markdown",
      "metadata": {
        "id": "A7GCMDglJrf-"
      },
      "source": [
        "Nombre: Luisa Zerega.\n",
        "\n",
        "Materia: Python.\n",
        "\n",
        "Actividad 2 descripcion:  Programa en PythonAlgoritmo que lea 4 calificaciones de un alumno, calcular y desplegar el promedio acompañado de la leyenda \"APROBADO\" o \"REPROBADO\"\n",
        "\n",
        "Matricula: 356491"
      ]
    },
    {
      "cell_type": "code",
      "source": [
        "def main():\n",
        "    calificacion1 = float(input(\"Ingresa la calificación 1: \"))\n",
        "    calificacion2 = float(input(\"Ingresa la calificación 2: \"))\n",
        "    calificacion3 = float(input(\"Ingresa la calificación 3: \"))\n",
        "    calificacion4 = float(input(\"Ingresa la calificación 4: \"))\n",
        "\n",
        "    promedio = (calificacion1 + calificacion2 + calificacion3 + calificacion4) / 4\n",
        "\n",
        "    if promedio >= 60:\n",
        "        print(\"APROBADO\")\n",
        "    else:\n",
        "        print(\"REPROBADO\")\n",
        "\n",
        "if __name__ == \"__main__\":\n",
        "    main()\n",
        "\n",
        "\n",
        "\n",
        "\n",
        "\n",
        "\n",
        "\n"
      ],
      "metadata": {
        "colab": {
          "base_uri": "https://localhost:8080/"
        },
        "id": "Qn-2ddDeWoIU",
        "outputId": "94beeb2b-9f9a-4db4-ab85-30a22c6f42c7"
      },
      "execution_count": 61,
      "outputs": [
        {
          "output_type": "stream",
          "name": "stdout",
          "text": [
            "Ingresa la calificación 1: 50\n",
            "Ingresa la calificación 2: 60\n",
            "Ingresa la calificación 3: 80\n",
            "Ingresa la calificación 4: 100\n",
            "APROBADO\n"
          ]
        }
      ]
    },
    {
      "cell_type": "markdown",
      "metadata": {
        "id": "4OpRkqqSKObO"
      },
      "source": [
        "Nombre: Luisa Zerega.\n",
        "\n",
        "Materia: Python.\n",
        "\n",
        "Actividad 3 descripcion:  Programa en PythonAlgoritmo que a través de opciones (1.- HOMBRE 2.- MUJER ) preguntar al usuario cual es su sexo y desplegar la leyenda “HOMBRE ”, “MUJER”\n",
        "\n",
        "\n",
        "Matricula: 356491"
      ]
    },
    {
      "cell_type": "code",
      "source": [
        "def main():\n",
        "    print(\"Elije una opción:\")\n",
        "    print(\"1. Hombre A\")\n",
        "    print(\"2. Mujer B\")\n",
        "\n",
        "    opcion = input(\"Ingresa el número de la opción que deseas elegir (1/2): \")\n",
        "\n",
        "    if opcion == '1':\n",
        "        print(\"Hombre A.\")\n",
        "    else:\n",
        "          print(\"Mujer B.\")\n",
        "\n",
        "if __name__ == \"__main__\":\n",
        "    main()\n",
        "\n",
        "\n",
        "\n",
        "\n",
        "\n",
        "\n",
        "\n",
        "\n",
        "\n",
        "\n",
        "\n",
        "\n",
        "\n",
        "\n",
        "\n",
        "\n",
        "\n",
        "\n",
        "\n",
        "\n",
        "\n",
        "\n",
        "\n",
        "\n",
        "\n",
        "\n",
        "\n",
        "\n"
      ],
      "metadata": {
        "colab": {
          "base_uri": "https://localhost:8080/"
        },
        "id": "hLJnO794Iiz4",
        "outputId": "f02ea765-1097-44dc-8555-7ccb3b51471a"
      },
      "execution_count": 68,
      "outputs": [
        {
          "output_type": "stream",
          "name": "stdout",
          "text": [
            "Elije una opción:\n",
            "1. Hombre A\n",
            "2. Mujer B\n",
            "Ingresa el número de la opción que deseas elegir (1/2): 2\n",
            "Mujer B.\n"
          ]
        }
      ]
    },
    {
      "cell_type": "markdown",
      "source": [
        "Nombre: Luisa Zerega.\n",
        "\n",
        "Materia: Python.\n",
        "\n",
        "Actividad 4 descripcion: Programa en Python que lea un número entero, y desplegar si el número es “PAR” o “IMPAR\n",
        "\n",
        "\n",
        "Matricula: 356491"
      ],
      "metadata": {
        "id": "WDPOk2vmI2JG"
      }
    },
    {
      "cell_type": "code",
      "source": [
        "numero = int(input(\"Ingresa un número entero: \"))\n",
        "\n",
        "if numero % 2 == 0:\n",
        "    print(\"El número es PAR.\")\n",
        "else:\n",
        "    print(\"El número es IMPAR.\")"
      ],
      "metadata": {
        "colab": {
          "base_uri": "https://localhost:8080/"
        },
        "id": "c9WrZso2JFsB",
        "outputId": "2a3c68ea-d6e3-4054-9def-5ef724bf4ff9"
      },
      "execution_count": null,
      "outputs": [
        {
          "output_type": "stream",
          "name": "stdout",
          "text": [
            "Ingresa un número entero: 3\n",
            "El número es IMPAR.\n"
          ]
        }
      ]
    },
    {
      "cell_type": "markdown",
      "source": [
        "Nombre: Luisa Zerega.\n",
        "\n",
        "Materia: Python.\n",
        "\n",
        "Actividad 5 condiciones compuestas descripcion: Programa en Python que lea 2 números enteros, usar una condición y analizar los dos números y desplegar cual de los números es el mayor 1\n",
        "\n",
        "Matricula: 356491"
      ],
      "metadata": {
        "id": "tneQEmrJJbym"
      }
    },
    {
      "cell_type": "code",
      "source": [
        "numero1 = int(input(\"Ingrese el primer número entero: \"))\n",
        "numero2 = int(input(\"Ingrese el segundo número entero: \"))\n",
        "\n",
        "if numero1 > numero2:\n",
        "    print(f\"{numero1} es el mayor número.\")\n",
        "elif numero2 > numero1:\n",
        "    print(f\"{numero2} es el mayor número.\")\n",
        "else:\n",
        "\n",
        "   print(\"Los números son iguales.\")"
      ],
      "metadata": {
        "id": "5QKyLlfIMarH"
      },
      "execution_count": null,
      "outputs": []
    },
    {
      "cell_type": "markdown",
      "source": [
        "Nombre: Luisa Zerega.\n",
        "\n",
        "Materia: Python.\n",
        "\n",
        "Actividad 6 condiciones compuestas descripcion:  Programa en Python que lea 4 calificaciones de un alumno, calcular y desplegar el promedio acompañado de la leyenda APROBADO o REPROBADO\n",
        "\n",
        "Matricula: 356491"
      ],
      "metadata": {
        "id": "pcTmoWnCPxUK"
      }
    },
    {
      "cell_type": "code",
      "execution_count": null,
      "metadata": {
        "colab": {
          "base_uri": "https://localhost:8080/"
        },
        "id": "FZzbuybHDO0W",
        "outputId": "2e26c8ff-18ed-4034-9acc-c389e345eecc"
      },
      "outputs": [
        {
          "name": "stdout",
          "output_type": "stream",
          "text": [
            "Ingresa la calificacion 1: 60\n",
            "Ingresa la calificacion 2: 60\n",
            "Ingresa la calificacion 3: 60\n",
            "Ingresa la calificacion 4: 59\n",
            "El promedio de las 4 calificaciones es:  59.8\n",
            "59.75 Reprobado :(.\n"
          ]
        }
      ],
      "source": [
        "calif1 = float(input(\"Ingresa la calificacion 1: \"))\n",
        "\n",
        "calif2 = float(input(\"Ingresa la calificacion 2: \"))\n",
        "\n",
        "calif3 = float(input(\"Ingresa la calificacion 3: \"))\n",
        "\n",
        "calif4 = float(input(\"Ingresa la calificacion 4: \"))\n",
        "\n",
        "promedio = (calif1+calif2+calif3+calif4) / 4\n",
        "\n",
        "print(\"El promedio de las 4 calificaciones es: \",round(promedio,1))\n",
        "\n",
        "if promedio >= 60:\n",
        "  print(f\"{promedio} Aprobado :).\")\n",
        "elif promedio < 60:\n",
        "  print(f\"{promedio} Reprobado :(.\")\n",
        "else:\n",
        "\n",
        "  print(\"Error :/.\")\n",
        "\n",
        "\n",
        "\n",
        "\n",
        "\n"
      ]
    },
    {
      "cell_type": "markdown",
      "source": [
        "Nombre: Luisa Zerega.\n",
        "\n",
        "Materia: Python.\n",
        "\n",
        "Actividad 7 condiciones compuestas descripcion: Programa en Python que a través de opciones (1.- HOMBRE 2.- MUJER ) preguntar al usuario cual es su sexo y desplegar la leyenda “HOMBRE ”, “MUJER\n",
        "\n",
        "Matricula: 356491"
      ],
      "metadata": {
        "id": "dATzKxVBQNal"
      }
    },
    {
      "cell_type": "code",
      "source": [
        "def main():\n",
        "    print(\"¿Eres hombre o mujer?\")\n",
        "    print(\"1. Hombre\")\n",
        "    print(\"2. Mujer\")\n",
        "\n",
        "    opcion = input(\"Selecciona el número de tu opción: \")\n",
        "\n",
        "    if opcion == \"1\":\n",
        "        print(\"Eres hombre.\")\n",
        "    elif opcion == \"2\":\n",
        "        print(\"Eres mujer.\")\n",
        "    else:\n",
        "        print(\"Opción no válida. Por favor elige entre 1 y 2.\")\n",
        "\n",
        "if __name__ == \"__main__\":\n",
        "    main()\n",
        "\n",
        "\n",
        "\n",
        "\n"
      ],
      "metadata": {
        "colab": {
          "base_uri": "https://localhost:8080/"
        },
        "outputId": "fd423866-3efb-439d-ac38-1d0ad1f9859e",
        "id": "wI1i4RpMQwlZ"
      },
      "execution_count": null,
      "outputs": [
        {
          "output_type": "stream",
          "name": "stdout",
          "text": [
            "¿Eres hombre o mujer?\n",
            "1. Hombre\n",
            "2. Mujer\n",
            "Selecciona el número de tu opción: 2\n",
            "Eres mujer.\n"
          ]
        }
      ]
    },
    {
      "cell_type": "markdown",
      "source": [
        "Nombre: Luisa Zerega.\n",
        "\n",
        "Materia: Python.\n",
        "\n",
        "Actividad 8 condiciones compuestas descripcion: Programa en Python que lea un número entero, y desplegar si el número es “PAR” o “IMPAR” NOTA: EJERCICIOS PARA SER RESUELTOS USANDO EXCLUSIVAMENTE CONDICIONES COMPUESTO\n",
        "\n",
        "Matricula: 356491"
      ],
      "metadata": {
        "id": "CVq79BO0U3ND"
      }
    },
    {
      "cell_type": "code",
      "source": [
        "def main():\n",
        "    numero = int(input(\"Ingresa un número entero: \"))\n",
        "\n",
        "    if numero % 2 == 0:\n",
        "      print(\"El número ingresado es PAR.\")\n",
        "    else:\n",
        "      print(\"El número ingresado es IMPAR.\")\n",
        "\n",
        "if __name__ == \"__main__\":\n",
        "    main()"
      ],
      "metadata": {
        "colab": {
          "base_uri": "https://localhost:8080/"
        },
        "id": "m1MlWc7TU-Ip",
        "outputId": "c4a6efed-3d96-4ebe-e6a5-5ef0e3d1d257"
      },
      "execution_count": 51,
      "outputs": [
        {
          "output_type": "stream",
          "name": "stdout",
          "text": [
            "Ingresa un número entero: 2\n",
            "El número ingresado es PAR.\n"
          ]
        }
      ]
    }
  ],
  "metadata": {
    "colab": {
      "provenance": [],
      "authorship_tag": "ABX9TyPEQ3L2jQLfiUDjxRjMj9ak",
      "include_colab_link": true
    },
    "kernelspec": {
      "display_name": "Python 3",
      "name": "python3"
    },
    "language_info": {
      "name": "python"
    }
  },
  "nbformat": 4,
  "nbformat_minor": 0
}